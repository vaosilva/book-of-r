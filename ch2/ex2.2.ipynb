{
 "cells": [
  {
   "cell_type": "markdown",
   "metadata": {},
   "source": [
    "# Exercise 2.2\n",
    "\n",
    "#### 1. Create an object that stores the value 3^2 × 4^(1/8)."
   ]
  },
  {
   "cell_type": "code",
   "execution_count": 4,
   "metadata": {},
   "outputs": [
    {
     "data": {
      "text/html": [
       "10.7028640350245"
      ],
      "text/latex": [
       "10.7028640350245"
      ],
      "text/markdown": [
       "10.7028640350245"
      ],
      "text/plain": [
       "[1] 10.70286"
      ]
     },
     "metadata": {},
     "output_type": "display_data"
    }
   ],
   "source": [
    "result = 3^2 * 4^(1/8)\n",
    "result"
   ]
  },
  {
   "cell_type": "markdown",
   "metadata": {},
   "source": [
    "#### 2. Overwrite your object in above by itself divided by 2.33. Print the result to the console."
   ]
  },
  {
   "cell_type": "code",
   "execution_count": 5,
   "metadata": {},
   "outputs": [
    {
     "data": {
      "text/html": [
       "4.59350387769291"
      ],
      "text/latex": [
       "4.59350387769291"
      ],
      "text/markdown": [
       "4.59350387769291"
      ],
      "text/plain": [
       "[1] 4.593504"
      ]
     },
     "metadata": {},
     "output_type": "display_data"
    }
   ],
   "source": [
    "result = result / 2.33\n",
    "result"
   ]
  },
  {
   "cell_type": "markdown",
   "metadata": {},
   "source": [
    "#### 3. Create a new object with the value -8.2 × 10^(-13)"
   ]
  },
  {
   "cell_type": "code",
   "execution_count": 7,
   "metadata": {},
   "outputs": [
    {
     "data": {
      "text/html": [
       "-8.2e-13"
      ],
      "text/latex": [
       "-8.2e-13"
      ],
      "text/markdown": [
       "-8.2e-13"
      ],
      "text/plain": [
       "[1] -8.2e-13"
      ]
     },
     "metadata": {},
     "output_type": "display_data"
    }
   ],
   "source": [
    "result2 = -8.2 * 10^(-13)\n",
    "result2"
   ]
  },
  {
   "cell_type": "markdown",
   "metadata": {},
   "source": [
    "#### 4. Print to the console the result of multiplying the two objects created."
   ]
  },
  {
   "cell_type": "code",
   "execution_count": 8,
   "metadata": {},
   "outputs": [
    {
     "data": {
      "text/html": [
       "-3.76667317970819e-12"
      ],
      "text/latex": [
       "-3.76667317970819e-12"
      ],
      "text/markdown": [
       "-3.76667317970819e-12"
      ],
      "text/plain": [
       "[1] -3.766673e-12"
      ]
     },
     "metadata": {},
     "output_type": "display_data"
    }
   ],
   "source": [
    "result * result2"
   ]
  }
 ],
 "metadata": {
  "kernelspec": {
   "display_name": "R",
   "language": "R",
   "name": "ir"
  },
  "language_info": {
   "codemirror_mode": "r",
   "file_extension": ".r",
   "mimetype": "text/x-r-source",
   "name": "R",
   "pygments_lexer": "r",
   "version": "3.6.1"
  }
 },
 "nbformat": 4,
 "nbformat_minor": 4
}

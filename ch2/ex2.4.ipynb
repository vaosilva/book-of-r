{
 "cells": [
  {
   "cell_type": "markdown",
   "metadata": {},
   "source": [
    "# Exercise 2.4\n",
    "\n",
    "#### 1. Create and store a vector that contains the following, in this order: a sequence of length 5 from 3 to 6 (inclusive), a twofold repetition of the vector c(2,-5.1,-33), the value 7/42 + 2"
   ]
  },
  {
   "cell_type": "code",
   "execution_count": 11,
   "metadata": {},
   "outputs": [
    {
     "data": {
      "text/html": [
       "<ol class=list-inline>\n",
       "\t<li>3</li>\n",
       "\t<li>3.75</li>\n",
       "\t<li>4.5</li>\n",
       "\t<li>5.25</li>\n",
       "\t<li>6</li>\n",
       "\t<li>2</li>\n",
       "\t<li>-5.1</li>\n",
       "\t<li>-33</li>\n",
       "\t<li>2</li>\n",
       "\t<li>-5.1</li>\n",
       "\t<li>-33</li>\n",
       "\t<li>2.16666666666667</li>\n",
       "</ol>\n"
      ],
      "text/latex": [
       "\\begin{enumerate*}\n",
       "\\item 3\n",
       "\\item 3.75\n",
       "\\item 4.5\n",
       "\\item 5.25\n",
       "\\item 6\n",
       "\\item 2\n",
       "\\item -5.1\n",
       "\\item -33\n",
       "\\item 2\n",
       "\\item -5.1\n",
       "\\item -33\n",
       "\\item 2.16666666666667\n",
       "\\end{enumerate*}\n"
      ],
      "text/markdown": [
       "1. 3\n",
       "2. 3.75\n",
       "3. 4.5\n",
       "4. 5.25\n",
       "5. 6\n",
       "6. 2\n",
       "7. -5.1\n",
       "8. -33\n",
       "9. 2\n",
       "10. -5.1\n",
       "11. -33\n",
       "12. 2.16666666666667\n",
       "\n",
       "\n"
      ],
      "text/plain": [
       " [1]   3.000000   3.750000   4.500000   5.250000   6.000000   2.000000\n",
       " [7]  -5.100000 -33.000000   2.000000  -5.100000 -33.000000   2.166667"
      ]
     },
     "metadata": {},
     "output_type": "display_data"
    }
   ],
   "source": [
    "ex1 <- c(seq(from=3, to=6, length.out=5), rep(c(2, -5.1, -33), times=2), 7/42 + 2)\n",
    "ex1"
   ]
  },
  {
   "cell_type": "markdown",
   "metadata": {},
   "source": [
    "#### 2. Extract the first and last elements of your vector, storing them as a new object."
   ]
  },
  {
   "cell_type": "code",
   "execution_count": 12,
   "metadata": {},
   "outputs": [
    {
     "data": {
      "text/html": [
       "<ol class=list-inline>\n",
       "\t<li>3</li>\n",
       "\t<li>2.16666666666667</li>\n",
       "</ol>\n"
      ],
      "text/latex": [
       "\\begin{enumerate*}\n",
       "\\item 3\n",
       "\\item 2.16666666666667\n",
       "\\end{enumerate*}\n"
      ],
      "text/markdown": [
       "1. 3\n",
       "2. 2.16666666666667\n",
       "\n",
       "\n"
      ],
      "text/plain": [
       "[1] 3.000000 2.166667"
      ]
     },
     "metadata": {},
     "output_type": "display_data"
    }
   ],
   "source": [
    "new_obj <- ex1[c(1, length(ex1))]\n",
    "new_obj"
   ]
  },
  {
   "cell_type": "markdown",
   "metadata": {},
   "source": [
    "#### 3. Store as a third object the values returned by omitting the first and last values of your original vector."
   ]
  },
  {
   "cell_type": "code",
   "execution_count": 13,
   "metadata": {},
   "outputs": [
    {
     "data": {
      "text/html": [
       "<ol class=list-inline>\n",
       "\t<li>3.75</li>\n",
       "\t<li>4.5</li>\n",
       "\t<li>5.25</li>\n",
       "\t<li>6</li>\n",
       "\t<li>2</li>\n",
       "\t<li>-5.1</li>\n",
       "\t<li>-33</li>\n",
       "\t<li>2</li>\n",
       "\t<li>-5.1</li>\n",
       "\t<li>-33</li>\n",
       "</ol>\n"
      ],
      "text/latex": [
       "\\begin{enumerate*}\n",
       "\\item 3.75\n",
       "\\item 4.5\n",
       "\\item 5.25\n",
       "\\item 6\n",
       "\\item 2\n",
       "\\item -5.1\n",
       "\\item -33\n",
       "\\item 2\n",
       "\\item -5.1\n",
       "\\item -33\n",
       "\\end{enumerate*}\n"
      ],
      "text/markdown": [
       "1. 3.75\n",
       "2. 4.5\n",
       "3. 5.25\n",
       "4. 6\n",
       "5. 2\n",
       "6. -5.1\n",
       "7. -33\n",
       "8. 2\n",
       "9. -5.1\n",
       "10. -33\n",
       "\n",
       "\n"
      ],
      "text/plain": [
       " [1]   3.75   4.50   5.25   6.00   2.00  -5.10 -33.00   2.00  -5.10 -33.00"
      ]
     },
     "metadata": {},
     "output_type": "display_data"
    }
   ],
   "source": [
    "new_obj2 <- ex1[-c(1, length(ex1))]\n",
    "new_obj2"
   ]
  },
  {
   "cell_type": "markdown",
   "metadata": {},
   "source": [
    "#### 4. Reconstruct ex1 with new_obj and new_obj2."
   ]
  },
  {
   "cell_type": "code",
   "execution_count": 14,
   "metadata": {},
   "outputs": [
    {
     "data": {
      "text/html": [
       "<ol class=list-inline>\n",
       "\t<li>3</li>\n",
       "\t<li>3.75</li>\n",
       "\t<li>4.5</li>\n",
       "\t<li>5.25</li>\n",
       "\t<li>6</li>\n",
       "\t<li>2</li>\n",
       "\t<li>-5.1</li>\n",
       "\t<li>-33</li>\n",
       "\t<li>2</li>\n",
       "\t<li>-5.1</li>\n",
       "\t<li>-33</li>\n",
       "\t<li>2.16666666666667</li>\n",
       "</ol>\n"
      ],
      "text/latex": [
       "\\begin{enumerate*}\n",
       "\\item 3\n",
       "\\item 3.75\n",
       "\\item 4.5\n",
       "\\item 5.25\n",
       "\\item 6\n",
       "\\item 2\n",
       "\\item -5.1\n",
       "\\item -33\n",
       "\\item 2\n",
       "\\item -5.1\n",
       "\\item -33\n",
       "\\item 2.16666666666667\n",
       "\\end{enumerate*}\n"
      ],
      "text/markdown": [
       "1. 3\n",
       "2. 3.75\n",
       "3. 4.5\n",
       "4. 5.25\n",
       "5. 6\n",
       "6. 2\n",
       "7. -5.1\n",
       "8. -33\n",
       "9. 2\n",
       "10. -5.1\n",
       "11. -33\n",
       "12. 2.16666666666667\n",
       "\n",
       "\n"
      ],
      "text/plain": [
       " [1]   3.000000   3.750000   4.500000   5.250000   6.000000   2.000000\n",
       " [7]  -5.100000 -33.000000   2.000000  -5.100000 -33.000000   2.166667"
      ]
     },
     "metadata": {},
     "output_type": "display_data"
    }
   ],
   "source": [
    "c(new_obj[1], new_obj2, new_obj[length(new_obj)])"
   ]
  },
  {
   "cell_type": "markdown",
   "metadata": {},
   "source": [
    "#### 5. Overwrite ex1 with a sorted version of the vector from smallest to largest."
   ]
  },
  {
   "cell_type": "code",
   "execution_count": 15,
   "metadata": {},
   "outputs": [
    {
     "data": {
      "text/html": [
       "<ol class=list-inline>\n",
       "\t<li>-33</li>\n",
       "\t<li>-33</li>\n",
       "\t<li>-5.1</li>\n",
       "\t<li>-5.1</li>\n",
       "\t<li>2</li>\n",
       "\t<li>2</li>\n",
       "\t<li>2.16666666666667</li>\n",
       "\t<li>3</li>\n",
       "\t<li>3.75</li>\n",
       "\t<li>4.5</li>\n",
       "\t<li>5.25</li>\n",
       "\t<li>6</li>\n",
       "</ol>\n"
      ],
      "text/latex": [
       "\\begin{enumerate*}\n",
       "\\item -33\n",
       "\\item -33\n",
       "\\item -5.1\n",
       "\\item -5.1\n",
       "\\item 2\n",
       "\\item 2\n",
       "\\item 2.16666666666667\n",
       "\\item 3\n",
       "\\item 3.75\n",
       "\\item 4.5\n",
       "\\item 5.25\n",
       "\\item 6\n",
       "\\end{enumerate*}\n"
      ],
      "text/markdown": [
       "1. -33\n",
       "2. -33\n",
       "3. -5.1\n",
       "4. -5.1\n",
       "5. 2\n",
       "6. 2\n",
       "7. 2.16666666666667\n",
       "8. 3\n",
       "9. 3.75\n",
       "10. 4.5\n",
       "11. 5.25\n",
       "12. 6\n",
       "\n",
       "\n"
      ],
      "text/plain": [
       " [1] -33.000000 -33.000000  -5.100000  -5.100000   2.000000   2.000000\n",
       " [7]   2.166667   3.000000   3.750000   4.500000   5.250000   6.000000"
      ]
     },
     "metadata": {},
     "output_type": "display_data"
    }
   ],
   "source": [
    "ex1 <- sort(ex1, decreasing=FALSE)\n",
    "ex1"
   ]
  },
  {
   "cell_type": "markdown",
   "metadata": {},
   "source": [
    "#### 6. Compare the colon notation and sort with decreasing=TRUE as a way of sorting the vector."
   ]
  },
  {
   "cell_type": "code",
   "execution_count": 16,
   "metadata": {},
   "outputs": [
    {
     "data": {
      "text/html": [
       "<ol class=list-inline>\n",
       "\t<li>6</li>\n",
       "\t<li>5.25</li>\n",
       "\t<li>4.5</li>\n",
       "\t<li>3.75</li>\n",
       "\t<li>3</li>\n",
       "\t<li>2.16666666666667</li>\n",
       "\t<li>2</li>\n",
       "\t<li>2</li>\n",
       "\t<li>-5.1</li>\n",
       "\t<li>-5.1</li>\n",
       "\t<li>-33</li>\n",
       "\t<li>-33</li>\n",
       "</ol>\n"
      ],
      "text/latex": [
       "\\begin{enumerate*}\n",
       "\\item 6\n",
       "\\item 5.25\n",
       "\\item 4.5\n",
       "\\item 3.75\n",
       "\\item 3\n",
       "\\item 2.16666666666667\n",
       "\\item 2\n",
       "\\item 2\n",
       "\\item -5.1\n",
       "\\item -5.1\n",
       "\\item -33\n",
       "\\item -33\n",
       "\\end{enumerate*}\n"
      ],
      "text/markdown": [
       "1. 6\n",
       "2. 5.25\n",
       "3. 4.5\n",
       "4. 3.75\n",
       "5. 3\n",
       "6. 2.16666666666667\n",
       "7. 2\n",
       "8. 2\n",
       "9. -5.1\n",
       "10. -5.1\n",
       "11. -33\n",
       "12. -33\n",
       "\n",
       "\n"
      ],
      "text/plain": [
       " [1]   6.000000   5.250000   4.500000   3.750000   3.000000   2.166667\n",
       " [7]   2.000000   2.000000  -5.100000  -5.100000 -33.000000 -33.000000"
      ]
     },
     "metadata": {},
     "output_type": "display_data"
    },
    {
     "data": {
      "text/html": [
       "<ol class=list-inline>\n",
       "\t<li>6</li>\n",
       "\t<li>5.25</li>\n",
       "\t<li>4.5</li>\n",
       "\t<li>3.75</li>\n",
       "\t<li>3</li>\n",
       "\t<li>2.16666666666667</li>\n",
       "\t<li>2</li>\n",
       "\t<li>2</li>\n",
       "\t<li>-5.1</li>\n",
       "\t<li>-5.1</li>\n",
       "\t<li>-33</li>\n",
       "\t<li>-33</li>\n",
       "</ol>\n"
      ],
      "text/latex": [
       "\\begin{enumerate*}\n",
       "\\item 6\n",
       "\\item 5.25\n",
       "\\item 4.5\n",
       "\\item 3.75\n",
       "\\item 3\n",
       "\\item 2.16666666666667\n",
       "\\item 2\n",
       "\\item 2\n",
       "\\item -5.1\n",
       "\\item -5.1\n",
       "\\item -33\n",
       "\\item -33\n",
       "\\end{enumerate*}\n"
      ],
      "text/markdown": [
       "1. 6\n",
       "2. 5.25\n",
       "3. 4.5\n",
       "4. 3.75\n",
       "5. 3\n",
       "6. 2.16666666666667\n",
       "7. 2\n",
       "8. 2\n",
       "9. -5.1\n",
       "10. -5.1\n",
       "11. -33\n",
       "12. -33\n",
       "\n",
       "\n"
      ],
      "text/plain": [
       " [1]   6.000000   5.250000   4.500000   3.750000   3.000000   2.166667\n",
       " [7]   2.000000   2.000000  -5.100000  -5.100000 -33.000000 -33.000000"
      ]
     },
     "metadata": {},
     "output_type": "display_data"
    }
   ],
   "source": [
    "ex1[length(ex1):1]\n",
    "sort(ex1, decreasing=TRUE)"
   ]
  },
  {
   "cell_type": "markdown",
   "metadata": {},
   "source": [
    "#### 7. Create a vector from new_obj2 that repeats the third element three times, the sixth four times, and the last once."
   ]
  },
  {
   "cell_type": "code",
   "execution_count": 17,
   "metadata": {},
   "outputs": [
    {
     "data": {
      "text/html": [
       "<ol class=list-inline>\n",
       "\t<li>5.25</li>\n",
       "\t<li>5.25</li>\n",
       "\t<li>5.25</li>\n",
       "\t<li>-5.1</li>\n",
       "\t<li>-5.1</li>\n",
       "\t<li>-5.1</li>\n",
       "\t<li>-5.1</li>\n",
       "\t<li>-33</li>\n",
       "</ol>\n"
      ],
      "text/latex": [
       "\\begin{enumerate*}\n",
       "\\item 5.25\n",
       "\\item 5.25\n",
       "\\item 5.25\n",
       "\\item -5.1\n",
       "\\item -5.1\n",
       "\\item -5.1\n",
       "\\item -5.1\n",
       "\\item -33\n",
       "\\end{enumerate*}\n"
      ],
      "text/markdown": [
       "1. 5.25\n",
       "2. 5.25\n",
       "3. 5.25\n",
       "4. -5.1\n",
       "5. -5.1\n",
       "6. -5.1\n",
       "7. -5.1\n",
       "8. -33\n",
       "\n",
       "\n"
      ],
      "text/plain": [
       "[1]   5.25   5.25   5.25  -5.10  -5.10  -5.10  -5.10 -33.00"
      ]
     },
     "metadata": {},
     "output_type": "display_data"
    }
   ],
   "source": [
    "new_obj3 <- c(rep(new_obj2[3], times=3), rep(new_obj2[6], times=4), new_obj2[length(new_obj2)])\n",
    "new_obj3"
   ]
  },
  {
   "cell_type": "markdown",
   "metadata": {},
   "source": [
    "#### 8. Create a new vector as a copy of ex1 by assigning ex1 as is to a newly named object. Using this new copy , overwrite the first, the fifth to the seventh (inclusive), and the last element with the values 99 to 95 (inclusive), respectively."
   ]
  },
  {
   "cell_type": "code",
   "execution_count": 20,
   "metadata": {},
   "outputs": [
    {
     "data": {
      "text/html": [
       "<ol class=list-inline>\n",
       "\t<li>-33</li>\n",
       "\t<li>-33</li>\n",
       "\t<li>-5.1</li>\n",
       "\t<li>-5.1</li>\n",
       "\t<li>2</li>\n",
       "\t<li>2</li>\n",
       "\t<li>2.16666666666667</li>\n",
       "\t<li>3</li>\n",
       "\t<li>3.75</li>\n",
       "\t<li>4.5</li>\n",
       "\t<li>5.25</li>\n",
       "\t<li>6</li>\n",
       "</ol>\n"
      ],
      "text/latex": [
       "\\begin{enumerate*}\n",
       "\\item -33\n",
       "\\item -33\n",
       "\\item -5.1\n",
       "\\item -5.1\n",
       "\\item 2\n",
       "\\item 2\n",
       "\\item 2.16666666666667\n",
       "\\item 3\n",
       "\\item 3.75\n",
       "\\item 4.5\n",
       "\\item 5.25\n",
       "\\item 6\n",
       "\\end{enumerate*}\n"
      ],
      "text/markdown": [
       "1. -33\n",
       "2. -33\n",
       "3. -5.1\n",
       "4. -5.1\n",
       "5. 2\n",
       "6. 2\n",
       "7. 2.16666666666667\n",
       "8. 3\n",
       "9. 3.75\n",
       "10. 4.5\n",
       "11. 5.25\n",
       "12. 6\n",
       "\n",
       "\n"
      ],
      "text/plain": [
       " [1] -33.000000 -33.000000  -5.100000  -5.100000   2.000000   2.000000\n",
       " [7]   2.166667   3.000000   3.750000   4.500000   5.250000   6.000000"
      ]
     },
     "metadata": {},
     "output_type": "display_data"
    },
    {
     "data": {
      "text/html": [
       "12"
      ],
      "text/latex": [
       "12"
      ],
      "text/markdown": [
       "12"
      ],
      "text/plain": [
       "[1] 12"
      ]
     },
     "metadata": {},
     "output_type": "display_data"
    },
    {
     "data": {
      "text/html": [
       "<ol class=list-inline>\n",
       "\t<li>99</li>\n",
       "\t<li>-33</li>\n",
       "\t<li>-5.1</li>\n",
       "\t<li>-5.1</li>\n",
       "\t<li>98</li>\n",
       "\t<li>97</li>\n",
       "\t<li>96</li>\n",
       "\t<li>3</li>\n",
       "\t<li>3.75</li>\n",
       "\t<li>4.5</li>\n",
       "\t<li>5.25</li>\n",
       "\t<li>95</li>\n",
       "</ol>\n"
      ],
      "text/latex": [
       "\\begin{enumerate*}\n",
       "\\item 99\n",
       "\\item -33\n",
       "\\item -5.1\n",
       "\\item -5.1\n",
       "\\item 98\n",
       "\\item 97\n",
       "\\item 96\n",
       "\\item 3\n",
       "\\item 3.75\n",
       "\\item 4.5\n",
       "\\item 5.25\n",
       "\\item 95\n",
       "\\end{enumerate*}\n"
      ],
      "text/markdown": [
       "1. 99\n",
       "2. -33\n",
       "3. -5.1\n",
       "4. -5.1\n",
       "5. 98\n",
       "6. 97\n",
       "7. 96\n",
       "8. 3\n",
       "9. 3.75\n",
       "10. 4.5\n",
       "11. 5.25\n",
       "12. 95\n",
       "\n",
       "\n"
      ],
      "text/plain": [
       " [1]  99.00 -33.00  -5.10  -5.10  98.00  97.00  96.00   3.00   3.75   4.50\n",
       "[11]   5.25  95.00"
      ]
     },
     "metadata": {},
     "output_type": "display_data"
    },
    {
     "data": {
      "text/html": [
       "12"
      ],
      "text/latex": [
       "12"
      ],
      "text/markdown": [
       "12"
      ],
      "text/plain": [
       "[1] 12"
      ]
     },
     "metadata": {},
     "output_type": "display_data"
    }
   ],
   "source": [
    "copy_ex1 <- ex1\n",
    "copy_ex1\n",
    "length(copy_ex1)\n",
    "copy_ex1[c(1, 5:7, length(copy_ex1))] <- 99:95\n",
    "copy_ex1\n",
    "length(copy_ex1)"
   ]
  }
 ],
 "metadata": {
  "kernelspec": {
   "display_name": "R",
   "language": "R",
   "name": "ir"
  },
  "language_info": {
   "codemirror_mode": "r",
   "file_extension": ".r",
   "mimetype": "text/x-r-source",
   "name": "R",
   "pygments_lexer": "r",
   "version": "3.6.1"
  }
 },
 "nbformat": 4,
 "nbformat_minor": 4
}
